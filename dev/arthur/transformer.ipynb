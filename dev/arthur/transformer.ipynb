{
 "cells": [
  {
   "cell_type": "code",
   "execution_count": 1,
   "metadata": {},
   "outputs": [],
   "source": [
    "import pandas as pd\n",
    "import awswrangler as wr\n",
    "import boto3\n",
    "from dotenv import load_dotenv\n",
    "import os"
   ]
  },
  {
   "cell_type": "code",
   "execution_count": 2,
   "metadata": {},
   "outputs": [
    {
     "data": {
      "text/plain": [
       "True"
      ]
     },
     "execution_count": 2,
     "metadata": {},
     "output_type": "execute_result"
    }
   ],
   "source": [
    "load_dotenv()"
   ]
  },
  {
   "cell_type": "code",
   "execution_count": 3,
   "metadata": {},
   "outputs": [],
   "source": [
    "aws_access_key_id = os.getenv(\"aws_access_key_id\")\n",
    "aws_secret_access_key = os.getenv(\"aws_secret_access_key\")"
   ]
  },
  {
   "cell_type": "code",
   "execution_count": 4,
   "metadata": {},
   "outputs": [],
   "source": [
    "session = boto3.session.Session(aws_access_key_id=aws_access_key_id,\n",
    "                                aws_secret_access_key=aws_secret_access_key, \n",
    "                                region_name='us-east-1')"
   ]
  },
  {
   "cell_type": "code",
   "execution_count": 9,
   "metadata": {},
   "outputs": [],
   "source": [
    "bronze_base = 'raw-anakin'\n",
    "silver_base = 'silver-darthvader'"
   ]
  },
  {
   "cell_type": "code",
   "execution_count": 7,
   "metadata": {},
   "outputs": [],
   "source": [
    "wr.catalog.create_database(silver_base, exist_ok=True, boto3_session=session, )"
   ]
  },
  {
   "cell_type": "code",
   "execution_count": 12,
   "metadata": {},
   "outputs": [],
   "source": [
    "query = \"\"\"\n",
    "SELECT \n",
    "    name,\n",
    "    TRY_CAST(rotation_period AS INT) AS rotation_period,\n",
    "    TRY_CAST(orbital_period AS INT) AS orbital_period,\n",
    "    TRY_CAST(diameter AS INT) AS diameter,\n",
    "    IF(climate LIKE '%hot%', TRUE, FALSE) AS is_hot,\n",
    "    IF(climate LIKE '%arid%', TRUE, FALSE) AS is_arid,\n",
    "    IF(climate LIKE '%rocky%', TRUE, FALSE) AS is_rocky,\n",
    "    IF(climate LIKE '%windy%', TRUE, FALSE) AS is_windy,\n",
    "    IF(climate LIKE '%temperate%', TRUE, FALSE) AS is_temperate,\n",
    "    IF(climate LIKE '%frigid%', TRUE, FALSE) AS is_frigid,\n",
    "    IF(climate LIKE '%frozen%', TRUE, FALSE) AS is_frozen,\n",
    "    IF(climate LIKE '%polluted%', TRUE, FALSE) AS is_polluted,\n",
    "    IF(climate LIKE '%tropical%', TRUE, FALSE) AS is_tropical,\n",
    "    CASE \n",
    "        WHEN gravity = 'unknown' THEN NULL\n",
    "        WHEN gravity = 'N/A' THEN NULL\n",
    "        ELSE CAST(SPLIT(gravity, ' ')[1] AS double)\n",
    "    END AS gravity,\n",
    "    TRY_CAST(surface_water AS INT) AS surface_water,\n",
    "    TRY_CAST(population AS INT) AS population,\n",
    "    CAST(FROM_ISO8601_TIMESTAMP_NANOS(created) AS TIMESTAMP) AS ts_created,\n",
    "    CAST(FROM_ISO8601_TIMESTAMP_NANOS(edited) AS TIMESTAMP) AS ts_edited\n",
    "FROM planets\n",
    "WHERE name != 'unknown'\n",
    "\"\"\""
   ]
  },
  {
   "cell_type": "code",
   "execution_count": 13,
   "metadata": {},
   "outputs": [],
   "source": [
    "df = wr.athena.read_sql_query(sql=query, database=bronze_base, boto3_session=session)"
   ]
  },
  {
   "cell_type": "code",
   "execution_count": 17,
   "metadata": {},
   "outputs": [],
   "source": [
    "path = 's3://silver-darthvader/planets'"
   ]
  },
  {
   "cell_type": "code",
   "execution_count": 18,
   "metadata": {},
   "outputs": [
    {
     "data": {
      "text/plain": [
       "{'paths': ['s3://silver-darthvader/planets/887fc3928aa54d1fa0df30a703f5cff1.snappy.parquet'],\n",
       " 'partitions_values': {}}"
      ]
     },
     "execution_count": 18,
     "metadata": {},
     "output_type": "execute_result"
    }
   ],
   "source": [
    "wr.s3.to_parquet(\n",
    "    df=df,\n",
    "    path=path,\n",
    "    dataset=True,\n",
    "    mode=\"overwrite\",\n",
    "    database=silver_base,\n",
    "    table='planets',\n",
    "    boto3_session=session\n",
    ")"
   ]
  }
 ],
 "metadata": {
  "kernelspec": {
   "display_name": "env",
   "language": "python",
   "name": "python3"
  },
  "language_info": {
   "codemirror_mode": {
    "name": "ipython",
    "version": 3
   },
   "file_extension": ".py",
   "mimetype": "text/x-python",
   "name": "python",
   "nbconvert_exporter": "python",
   "pygments_lexer": "ipython3",
   "version": "3.11.2"
  },
  "orig_nbformat": 4
 },
 "nbformat": 4,
 "nbformat_minor": 2
}
